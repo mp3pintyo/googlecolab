!pip install pygit2==1.12.2
%cd /content
!git clone https://github.com/lllyasviel/Fooocus.git

#Modellek letoltese
!apt -y install -qq aria2
!aria2c --console-log-level=error -c -x 16 -s 16 -k 1M https://huggingface.co/SG161222/Realistic_Vision_V6.0_B1_noVAE/resolve/main/Realistic_Vision_V6.0_NV_B1.safetensors -d /content/Fooocus/models/checkpoints -o Realistic_Vision_V6.0_NV_B1.safetensors 

%cd /content/Fooocus
!python entry_with_update.py --share